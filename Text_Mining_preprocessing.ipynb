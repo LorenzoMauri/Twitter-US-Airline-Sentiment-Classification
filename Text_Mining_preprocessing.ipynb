{
  "nbformat": 4,
  "nbformat_minor": 0,
  "metadata": {
    "colab": {
      "name": "Text Mining preprocessing.ipynb",
      "provenance": [],
      "collapsed_sections": [
        "aDAXm653ZwXw",
        "QTAv_7VLQC0y",
        "PsY536Oqk7VN",
        "bJ9lYurXT9zA"
      ]
    },
    "kernelspec": {
      "display_name": "Python 3",
      "name": "python3"
    },
    "language_info": {
      "name": "python"
    }
  },
  "cells": [
    {
      "cell_type": "markdown",
      "metadata": {
        "id": "tlyRhhqjaVIQ"
      },
      "source": [
        "\n",
        "\n",
        "---\n",
        "\n",
        "<center>\n",
        "<h1>\n",
        "Text Mining and Search Project\n",
        "\n",
        "by L.Mauri, A.Vincenzi, E.Rebesco\n",
        "\n",
        "</h1>\n",
        "</center>\n",
        "\n",
        "\n",
        "---\n",
        "\n"
      ]
    },
    {
      "cell_type": "markdown",
      "metadata": {
        "id": "tnMLf0di7IA6"
      },
      "source": [
        "# Download pkgs addizionali"
      ]
    },
    {
      "cell_type": "code",
      "metadata": {
        "colab": {
          "base_uri": "https://localhost:8080/"
        },
        "id": "3g1pupSA7FYV",
        "outputId": "c0396223-af54-4e28-a892-411f3c45fea0"
      },
      "source": [
        "!pip install nlpaug\n",
        "!pip install demoji\n",
        "!pip install regex\n",
        "!pip install unidecode\n",
        "!pip install stop-words"
      ],
      "execution_count": null,
      "outputs": [
        {
          "output_type": "stream",
          "text": [
            "Requirement already satisfied: nlpaug in /usr/local/lib/python3.7/dist-packages (1.1.3)\n",
            "Requirement already satisfied: demoji in /usr/local/lib/python3.7/dist-packages (0.4.0)\n",
            "Requirement already satisfied: requests<3.0.0 in /usr/local/lib/python3.7/dist-packages (from demoji) (2.23.0)\n",
            "Requirement already satisfied: colorama in /usr/local/lib/python3.7/dist-packages (from demoji) (0.4.4)\n",
            "Requirement already satisfied: certifi>=2017.4.17 in /usr/local/lib/python3.7/dist-packages (from requests<3.0.0->demoji) (2020.12.5)\n",
            "Requirement already satisfied: chardet<4,>=3.0.2 in /usr/local/lib/python3.7/dist-packages (from requests<3.0.0->demoji) (3.0.4)\n",
            "Requirement already satisfied: idna<3,>=2.5 in /usr/local/lib/python3.7/dist-packages (from requests<3.0.0->demoji) (2.10)\n",
            "Requirement already satisfied: urllib3!=1.25.0,!=1.25.1,<1.26,>=1.21.1 in /usr/local/lib/python3.7/dist-packages (from requests<3.0.0->demoji) (1.24.3)\n",
            "Requirement already satisfied: regex in /usr/local/lib/python3.7/dist-packages (2019.12.20)\n",
            "Requirement already satisfied: unidecode in /usr/local/lib/python3.7/dist-packages (1.2.0)\n",
            "Requirement already satisfied: stop-words in /usr/local/lib/python3.7/dist-packages (2018.7.23)\n"
          ],
          "name": "stdout"
        }
      ]
    },
    {
      "cell_type": "markdown",
      "metadata": {
        "id": "nGd_MwUuanSo"
      },
      "source": [
        "#Import pacchetti/librerie"
      ]
    },
    {
      "cell_type": "code",
      "metadata": {
        "colab": {
          "base_uri": "https://localhost:8080/"
        },
        "id": "sEpKyuk6szfB",
        "outputId": "a69653f2-3fa9-4203-fbb5-94900953401c"
      },
      "source": [
        "from google.colab import drive\n",
        "drive.mount('/content/drive')"
      ],
      "execution_count": null,
      "outputs": [
        {
          "output_type": "stream",
          "text": [
            "Drive already mounted at /content/drive; to attempt to forcibly remount, call drive.mount(\"/content/drive\", force_remount=True).\n"
          ],
          "name": "stdout"
        }
      ]
    },
    {
      "cell_type": "code",
      "metadata": {
        "id": "IrEEcxFX77LL"
      },
      "source": [
        "import string\n",
        "from unidecode import unidecode\n",
        "import demoji\n",
        "import nltk\n",
        "from nltk.tokenize import WordPunctTokenizer\n",
        "from nltk.corpus import stopwords\n",
        "from nltk.stem import PorterStemmer \n",
        "from textblob import Word\n",
        "import regex as re"
      ],
      "execution_count": null,
      "outputs": []
    },
    {
      "cell_type": "code",
      "metadata": {
        "id": "vNbRj7AU8A83"
      },
      "source": [
        "from sklearn.svm import SVC\n",
        "from sklearn.decomposition import TruncatedSVD\n",
        "from sklearn.ensemble import RandomForestClassifier\n",
        "from sklearn.model_selection import train_test_split\n",
        "from sklearn.metrics import classification_report, confusion_matrix\n",
        "from sklearn.feature_extraction.text import TfidfVectorizer\n",
        "from sklearn.model_selection import  GridSearchCV"
      ],
      "execution_count": null,
      "outputs": []
    },
    {
      "cell_type": "code",
      "metadata": {
        "id": "RuaVzPqX8Dh5"
      },
      "source": [
        "import keras \n",
        "from keras import layers\n",
        "from keras.models import Sequential\n",
        "from tensorflow.keras import initializers"
      ],
      "execution_count": null,
      "outputs": []
    },
    {
      "cell_type": "code",
      "metadata": {
        "id": "DwmU4J3DDI1i"
      },
      "source": [
        "import seaborn as sns\n",
        "from matplotlib import pyplot as plt"
      ],
      "execution_count": null,
      "outputs": []
    },
    {
      "cell_type": "code",
      "metadata": {
        "id": "mxXwCuhf8Ssi"
      },
      "source": [
        "import numpy as np\n",
        "import pandas as pd\n",
        "from pandas import DataFrame, Series\n",
        "from pandas._typing import FilePathOrBuffer"
      ],
      "execution_count": null,
      "outputs": []
    },
    {
      "cell_type": "code",
      "metadata": {
        "id": "OVh9VNbB8Q61"
      },
      "source": [
        "import nlpaug.augmenter.word as naw"
      ],
      "execution_count": null,
      "outputs": []
    },
    {
      "cell_type": "code",
      "metadata": {
        "id": "5SsKJHPNebYe"
      },
      "source": [
        "from stop_words import get_stop_words\n",
        "from nltk.corpus import stopwords \n",
        "from nltk.tokenize import TweetTokenizer"
      ],
      "execution_count": null,
      "outputs": []
    },
    {
      "cell_type": "code",
      "metadata": {
        "id": "yA7Pb1Xqifch"
      },
      "source": [
        "from sklearn.utils import shuffle"
      ],
      "execution_count": null,
      "outputs": []
    },
    {
      "cell_type": "code",
      "metadata": {
        "id": "fERZLq9oecTv"
      },
      "source": [
        "from typing import Any, AnyStr, List, Dict"
      ],
      "execution_count": null,
      "outputs": []
    },
    {
      "cell_type": "code",
      "metadata": {
        "colab": {
          "base_uri": "https://localhost:8080/"
        },
        "id": "5FTN3o2ygbU8",
        "outputId": "573e7f9e-9bc8-47e9-f85f-7ea71f277230"
      },
      "source": [
        "from tqdm import tqdm\n",
        "tqdm.pandas()"
      ],
      "execution_count": null,
      "outputs": [
        {
          "output_type": "stream",
          "text": [
            "/usr/local/lib/python3.7/dist-packages/tqdm/std.py:658: FutureWarning: The Panel class is removed from pandas. Accessing it from the top-level namespace will also be removed in the next version\n",
            "  from pandas import Panel\n"
          ],
          "name": "stderr"
        }
      ]
    },
    {
      "cell_type": "markdown",
      "metadata": {
        "id": "_v77W06DNomO"
      },
      "source": [
        "# Download Risorse\n",
        "\n",
        "\n",
        "---\n",
        "\n"
      ]
    },
    {
      "cell_type": "code",
      "metadata": {
        "colab": {
          "base_uri": "https://localhost:8080/"
        },
        "id": "O3c3YuuhNi5u",
        "outputId": "378d2d4f-0b8b-44ea-fff9-f2335478a42f"
      },
      "source": [
        "nltk.download('stopwords')\n",
        "nltk.download('punkt')\n",
        "porter = PorterStemmer()\n",
        "punctuation = string.punctuation\n",
        "lang = ['english']\n",
        "nltk.download('wordnet')\n",
        "nltk.download('averaged_perceptron_tagger')\n",
        "demoji.download_codes()"
      ],
      "execution_count": null,
      "outputs": [
        {
          "output_type": "stream",
          "text": [
            "[nltk_data] Downloading package stopwords to /root/nltk_data...\n",
            "[nltk_data]   Package stopwords is already up-to-date!\n",
            "[nltk_data] Downloading package punkt to /root/nltk_data...\n",
            "[nltk_data]   Package punkt is already up-to-date!\n",
            "[nltk_data] Downloading package wordnet to /root/nltk_data...\n",
            "[nltk_data]   Package wordnet is already up-to-date!\n",
            "[nltk_data] Downloading package averaged_perceptron_tagger to\n",
            "[nltk_data]     /root/nltk_data...\n",
            "[nltk_data]   Package averaged_perceptron_tagger is already up-to-\n",
            "[nltk_data]       date!\n",
            "Downloading emoji data ...\n",
            "... OK (Got response in 0.15 seconds)\n",
            "Writing emoji data to /root/.demoji/codes.json ...\n",
            "... OK\n"
          ],
          "name": "stdout"
        }
      ]
    },
    {
      "cell_type": "markdown",
      "metadata": {
        "id": "0GDm3tDwOWK2"
      },
      "source": [
        "# Funzioni\n",
        "\n",
        "\n",
        "\n",
        "---\n",
        "\n"
      ]
    },
    {
      "cell_type": "code",
      "metadata": {
        "id": "_QEo-bWFeBmc"
      },
      "source": [
        "# cleaners\n",
        "def clean_remove_tags_hashtags(text: str, inplace: bool = False) -> str:\n",
        "    return re.sub(r'@[a-zA-z]+|#[a-zA-z]+', '', text)\n",
        "\n",
        "def clean_remove_tags_hashtags(text: str, inplace: bool = False) -> str:\n",
        "    text = ' '.join(text)\n",
        "    return re.sub(r'@[a-zA-z]+|#[a-zA-z]+', '', text)\n",
        "\n",
        "def clean_space_normalizer(text: str) -> str:\n",
        "    return re.sub(r'\\s\\s+', r' ', text)\n",
        "\n",
        "def clean_remove_punkt(text: str) -> str:\n",
        "    return text.translate(str.maketrans('', '', punctuation))\n",
        "\n",
        "def clean_remove_emoji(text: str) -> str:\n",
        "    return demoji.replace(text)\n",
        "\n",
        "def clean_remove_residuals(text: str) -> str:\n",
        "    return ''.join([c for c in text if ord(c) < 128])\n",
        "\n",
        "def clean_remove_repetition(text: str) -> str:\n",
        "    return re.sub('(.)(?<=\\\\1\\\\1)', '', text)\n",
        "\n",
        "def clean_capital_sequences(text: str) -> str:\n",
        "    return re.sub('\\b[A-Z]{2,3}\\b', ' ', text)\n",
        "\n",
        "def clean_space_condenser(text: str) -> str:\n",
        "    _pattern = [\n",
        "        re.compile(_r) for _r in\n",
        "        [r'\\s{2,}', r'^\\s+|\\s+$', r'\\s+', r'(?:(?!\\w+)\\s?[\\/]+\\s?(?!\\w+))']\n",
        "    ]\n",
        "    _subs = [r' ', r'', r' ', r' ']\n",
        "\n",
        "    for r, s in zip(_pattern, _subs):\n",
        "        text = r.sub(s, text)\n",
        "    return unidecode(text.lower())\n",
        "\n",
        "def clean_remove_digit(text: str) -> str:\n",
        "    return re.sub(r'\\d+', '', text)\n",
        "  \n",
        "def clean_url(text: str) -> str:\n",
        "    return re.sub(r'https?:\\/\\/.*[\\r\\n]*', '', text, flags=re.M)"
      ],
      "execution_count": null,
      "outputs": []
    },
    {
      "cell_type": "code",
      "metadata": {
        "id": "K_n3ApGVeDqg"
      },
      "source": [
        "# get enhanced stopwords\n",
        "stop_words = list(set(stopwords.words('english') + get_stop_words('english')))"
      ],
      "execution_count": null,
      "outputs": []
    },
    {
      "cell_type": "code",
      "metadata": {
        "id": "1EVtICQ5eEQR"
      },
      "source": [
        "# get tokens\n",
        "def tokenizer(text, tt: TweetTokenizer, stop_words: List) -> List:\n",
        "    return [w.lower() for w in [\n",
        "        re.sub(r'\\b\\w{1,2}\\b', '', w) for w in tt.tokenize(text)\n",
        "        if not w in stop_words  \n",
        "    ] if w]"
      ],
      "execution_count": null,
      "outputs": []
    },
    {
      "cell_type": "code",
      "metadata": {
        "id": "pke7YLH0DCCd"
      },
      "source": [
        "def stemText(text):\n",
        "  return  ' '.join([porter.stem(word) for word in tt.tokenize(text)])\n",
        "\n",
        "def setLabels(text):\n",
        "  return 2 if text == 'positive' else (1 if  text == 'neutral' else 0)\n",
        "\n",
        "\n",
        "def underSampling(dataframe,n=100,classesCol='airline_sentiment_labels'):\n",
        "  class_pos = dataframe[dataframe[classesCol] == 2 ].sample(n)\n",
        "  class_neg = dataframe[dataframe[classesCol] == 0 ].sample(n)\n",
        "  class_neu = dataframe[dataframe[classesCol] == 1 ].sample(n)\n",
        "  return class_pos, class_neg, class_neu\n",
        "\n",
        "def lemmatize(x):\n",
        "  \"\"\"\n",
        "  :param x: list of tokens \n",
        "  :param type: list\n",
        "  \"\"\"\n",
        "  w = Word(x)\n",
        "  return w.lemmatize()\n",
        "\n",
        "def plotClassesFrequency(dataframe,plotDim,column):\n",
        "  plt.figure(figsize=plotDim)\n",
        "  sns.countplot(dataframe[column],palette='coolwarm')\n",
        "  plt.xlabel('classi',size=14)\n",
        "  plt.ylabel('frequenza',size=14)\n"
      ],
      "execution_count": null,
      "outputs": []
    },
    {
      "cell_type": "markdown",
      "metadata": {
        "id": "SQLwDszr1PYA"
      },
      "source": [
        "# Import dati\n",
        "\n",
        "\n",
        "\n",
        "---\n",
        "\n"
      ]
    },
    {
      "cell_type": "code",
      "metadata": {
        "colab": {
          "base_uri": "https://localhost:8080/"
        },
        "id": "JqcDkbCd1Gbo",
        "outputId": "65556052-fc8b-4b4d-f518-fcf0d477f82d"
      },
      "source": [
        "filePath = '/content/drive/MyDrive/text mining and search/twitter sentiment/Tweets.csv'\n",
        "twitterReviews = pd.read_csv(filePath)\n",
        "twitterReviews.head(3)"
      ],
      "execution_count": null,
      "outputs": [
        {
          "output_type": "execute_result",
          "data": {
            "text/html": [
              "<div>\n",
              "<style scoped>\n",
              "    .dataframe tbody tr th:only-of-type {\n",
              "        vertical-align: middle;\n",
              "    }\n",
              "\n",
              "    .dataframe tbody tr th {\n",
              "        vertical-align: top;\n",
              "    }\n",
              "\n",
              "    .dataframe thead th {\n",
              "        text-align: right;\n",
              "    }\n",
              "</style>\n",
              "<table border=\"1\" class=\"dataframe\">\n",
              "  <thead>\n",
              "    <tr style=\"text-align: right;\">\n",
              "      <th></th>\n",
              "      <th>tweet_id</th>\n",
              "      <th>airline_sentiment</th>\n",
              "      <th>airline_sentiment_confidence</th>\n",
              "      <th>negativereason</th>\n",
              "      <th>negativereason_confidence</th>\n",
              "      <th>airline</th>\n",
              "      <th>airline_sentiment_gold</th>\n",
              "      <th>name</th>\n",
              "      <th>negativereason_gold</th>\n",
              "      <th>retweet_count</th>\n",
              "      <th>text</th>\n",
              "      <th>tweet_coord</th>\n",
              "      <th>tweet_created</th>\n",
              "      <th>tweet_location</th>\n",
              "      <th>user_timezone</th>\n",
              "    </tr>\n",
              "  </thead>\n",
              "  <tbody>\n",
              "    <tr>\n",
              "      <th>0</th>\n",
              "      <td>570306133677760513</td>\n",
              "      <td>neutral</td>\n",
              "      <td>1.0000</td>\n",
              "      <td>NaN</td>\n",
              "      <td>NaN</td>\n",
              "      <td>Virgin America</td>\n",
              "      <td>NaN</td>\n",
              "      <td>cairdin</td>\n",
              "      <td>NaN</td>\n",
              "      <td>0</td>\n",
              "      <td>@VirginAmerica What @dhepburn said.</td>\n",
              "      <td>NaN</td>\n",
              "      <td>2015-02-24 11:35:52 -0800</td>\n",
              "      <td>NaN</td>\n",
              "      <td>Eastern Time (US &amp; Canada)</td>\n",
              "    </tr>\n",
              "    <tr>\n",
              "      <th>1</th>\n",
              "      <td>570301130888122368</td>\n",
              "      <td>positive</td>\n",
              "      <td>0.3486</td>\n",
              "      <td>NaN</td>\n",
              "      <td>0.0</td>\n",
              "      <td>Virgin America</td>\n",
              "      <td>NaN</td>\n",
              "      <td>jnardino</td>\n",
              "      <td>NaN</td>\n",
              "      <td>0</td>\n",
              "      <td>@VirginAmerica plus you've added commercials t...</td>\n",
              "      <td>NaN</td>\n",
              "      <td>2015-02-24 11:15:59 -0800</td>\n",
              "      <td>NaN</td>\n",
              "      <td>Pacific Time (US &amp; Canada)</td>\n",
              "    </tr>\n",
              "    <tr>\n",
              "      <th>2</th>\n",
              "      <td>570301083672813571</td>\n",
              "      <td>neutral</td>\n",
              "      <td>0.6837</td>\n",
              "      <td>NaN</td>\n",
              "      <td>NaN</td>\n",
              "      <td>Virgin America</td>\n",
              "      <td>NaN</td>\n",
              "      <td>yvonnalynn</td>\n",
              "      <td>NaN</td>\n",
              "      <td>0</td>\n",
              "      <td>@VirginAmerica I didn't today... Must mean I n...</td>\n",
              "      <td>NaN</td>\n",
              "      <td>2015-02-24 11:15:48 -0800</td>\n",
              "      <td>Lets Play</td>\n",
              "      <td>Central Time (US &amp; Canada)</td>\n",
              "    </tr>\n",
              "  </tbody>\n",
              "</table>\n",
              "</div>"
            ],
            "text/plain": [
              "             tweet_id  ...               user_timezone\n",
              "0  570306133677760513  ...  Eastern Time (US & Canada)\n",
              "1  570301130888122368  ...  Pacific Time (US & Canada)\n",
              "2  570301083672813571  ...  Central Time (US & Canada)\n",
              "\n",
              "[3 rows x 15 columns]"
            ]
          },
          "metadata": {
            "tags": []
          },
          "execution_count": 131
        }
      ]
    },
    {
      "cell_type": "code",
      "metadata": {
        "colab": {
          "base_uri": "https://localhost:8080/"
        },
        "id": "k8IEoKz82F-P",
        "outputId": "cb68299c-1858-443f-cec8-252523eb06d5"
      },
      "source": [
        "twitterReviews= twitterReviews[['text','airline_sentiment']]\n",
        "twitterReviews.head()"
      ],
      "execution_count": null,
      "outputs": [
        {
          "output_type": "execute_result",
          "data": {
            "text/html": [
              "<div>\n",
              "<style scoped>\n",
              "    .dataframe tbody tr th:only-of-type {\n",
              "        vertical-align: middle;\n",
              "    }\n",
              "\n",
              "    .dataframe tbody tr th {\n",
              "        vertical-align: top;\n",
              "    }\n",
              "\n",
              "    .dataframe thead th {\n",
              "        text-align: right;\n",
              "    }\n",
              "</style>\n",
              "<table border=\"1\" class=\"dataframe\">\n",
              "  <thead>\n",
              "    <tr style=\"text-align: right;\">\n",
              "      <th></th>\n",
              "      <th>text</th>\n",
              "      <th>airline_sentiment</th>\n",
              "    </tr>\n",
              "  </thead>\n",
              "  <tbody>\n",
              "    <tr>\n",
              "      <th>0</th>\n",
              "      <td>@VirginAmerica What @dhepburn said.</td>\n",
              "      <td>neutral</td>\n",
              "    </tr>\n",
              "    <tr>\n",
              "      <th>1</th>\n",
              "      <td>@VirginAmerica plus you've added commercials t...</td>\n",
              "      <td>positive</td>\n",
              "    </tr>\n",
              "    <tr>\n",
              "      <th>2</th>\n",
              "      <td>@VirginAmerica I didn't today... Must mean I n...</td>\n",
              "      <td>neutral</td>\n",
              "    </tr>\n",
              "    <tr>\n",
              "      <th>3</th>\n",
              "      <td>@VirginAmerica it's really aggressive to blast...</td>\n",
              "      <td>negative</td>\n",
              "    </tr>\n",
              "    <tr>\n",
              "      <th>4</th>\n",
              "      <td>@VirginAmerica and it's a really big bad thing...</td>\n",
              "      <td>negative</td>\n",
              "    </tr>\n",
              "  </tbody>\n",
              "</table>\n",
              "</div>"
            ],
            "text/plain": [
              "                                                text airline_sentiment\n",
              "0                @VirginAmerica What @dhepburn said.           neutral\n",
              "1  @VirginAmerica plus you've added commercials t...          positive\n",
              "2  @VirginAmerica I didn't today... Must mean I n...           neutral\n",
              "3  @VirginAmerica it's really aggressive to blast...          negative\n",
              "4  @VirginAmerica and it's a really big bad thing...          negative"
            ]
          },
          "metadata": {
            "tags": []
          },
          "execution_count": 132
        }
      ]
    },
    {
      "cell_type": "code",
      "metadata": {
        "colab": {
          "base_uri": "https://localhost:8080/"
        },
        "id": "4NQR1kWo1uZv",
        "outputId": "1250a962-c3eb-4c57-ad21-1cc11ed3e7dc"
      },
      "source": [
        "twitterReviews.isnull().sum()"
      ],
      "execution_count": null,
      "outputs": [
        {
          "output_type": "execute_result",
          "data": {
            "text/plain": [
              "text                 0\n",
              "airline_sentiment    0\n",
              "dtype: int64"
            ]
          },
          "metadata": {
            "tags": []
          },
          "execution_count": 133
        }
      ]
    },
    {
      "cell_type": "markdown",
      "metadata": {
        "id": "v345S8zBDs-R"
      },
      "source": [
        "# Preprocessing\n",
        "\n",
        "\n",
        "---\n",
        "\n",
        "\n",
        "* Tokenizzazione\n",
        "\n",
        "* Rimozione dei tag e hashtag ( @abc e #abc )\n",
        "\n",
        "* Rimozione degli url\n",
        "\n",
        "* Rimozione delle stopwords \n",
        "\n",
        "* Rimozione della punteggiatura \n",
        "\n",
        "* Rimozione dei numeri \n",
        "\n",
        "* Rimozione degli spazi bianchi\n",
        "\n",
        "\n",
        "\n",
        "* **Data Augmentation**\n",
        "\n",
        "* Lemmatizzazione\n",
        "\n",
        "* Stemming\n",
        "\n",
        "* Codifica della variabile target\n",
        "\n",
        "* Rimozione delle recensioni vuote\n",
        "\n"
      ]
    },
    {
      "cell_type": "markdown",
      "metadata": {
        "id": "hCHJ8I9MWxKK"
      },
      "source": [
        "### Tokenizzazione\n",
        "\n",
        "\n",
        "\n",
        "---\n",
        "\n"
      ]
    },
    {
      "cell_type": "code",
      "metadata": {
        "colab": {
          "base_uri": "https://localhost:8080/"
        },
        "id": "YXpugxh5YTBr",
        "outputId": "88bda8b3-613f-4404-8075-26bf4dfb56bf"
      },
      "source": [
        "tt = TweetTokenizer()\n",
        "twitterReviews['transformed_text']= twitterReviews.text.progress_apply(tokenizer, args=(tt, stop_words))"
      ],
      "execution_count": null,
      "outputs": [
        {
          "output_type": "stream",
          "text": [
            "100%|██████████| 14640/14640 [00:02<00:00, 5039.00it/s]\n"
          ],
          "name": "stderr"
        }
      ]
    },
    {
      "cell_type": "code",
      "metadata": {
        "colab": {
          "base_uri": "https://localhost:8080/"
        },
        "id": "dgB1O06zPCva",
        "outputId": "5dc86ec6-02b1-4860-f421-19035ec0a5ed"
      },
      "source": [
        "twitterReviews.head(3)"
      ],
      "execution_count": null,
      "outputs": [
        {
          "output_type": "execute_result",
          "data": {
            "text/html": [
              "<div>\n",
              "<style scoped>\n",
              "    .dataframe tbody tr th:only-of-type {\n",
              "        vertical-align: middle;\n",
              "    }\n",
              "\n",
              "    .dataframe tbody tr th {\n",
              "        vertical-align: top;\n",
              "    }\n",
              "\n",
              "    .dataframe thead th {\n",
              "        text-align: right;\n",
              "    }\n",
              "</style>\n",
              "<table border=\"1\" class=\"dataframe\">\n",
              "  <thead>\n",
              "    <tr style=\"text-align: right;\">\n",
              "      <th></th>\n",
              "      <th>text</th>\n",
              "      <th>airline_sentiment</th>\n",
              "      <th>transformed_text</th>\n",
              "    </tr>\n",
              "  </thead>\n",
              "  <tbody>\n",
              "    <tr>\n",
              "      <th>0</th>\n",
              "      <td>@VirginAmerica What @dhepburn said.</td>\n",
              "      <td>neutral</td>\n",
              "      <td>[@virginamerica, what, @dhepburn, said, .]</td>\n",
              "    </tr>\n",
              "    <tr>\n",
              "      <th>1</th>\n",
              "      <td>@VirginAmerica plus you've added commercials t...</td>\n",
              "      <td>positive</td>\n",
              "      <td>[@virginamerica, plus, added, commercials, exp...</td>\n",
              "    </tr>\n",
              "    <tr>\n",
              "      <th>2</th>\n",
              "      <td>@VirginAmerica I didn't today... Must mean I n...</td>\n",
              "      <td>neutral</td>\n",
              "      <td>[@virginamerica, today, ..., must, mean, need,...</td>\n",
              "    </tr>\n",
              "  </tbody>\n",
              "</table>\n",
              "</div>"
            ],
            "text/plain": [
              "                                                text  ...                                   transformed_text\n",
              "0                @VirginAmerica What @dhepburn said.  ...         [@virginamerica, what, @dhepburn, said, .]\n",
              "1  @VirginAmerica plus you've added commercials t...  ...  [@virginamerica, plus, added, commercials, exp...\n",
              "2  @VirginAmerica I didn't today... Must mean I n...  ...  [@virginamerica, today, ..., must, mean, need,...\n",
              "\n",
              "[3 rows x 3 columns]"
            ]
          },
          "metadata": {
            "tags": []
          },
          "execution_count": 135
        }
      ]
    },
    {
      "cell_type": "markdown",
      "metadata": {
        "id": "HceGxQa2TFeX"
      },
      "source": [
        "### Sanitize raw text\n",
        "\n",
        "\n",
        "---\n",
        "\n"
      ]
    },
    {
      "cell_type": "code",
      "metadata": {
        "id": "gDb7DrTaffGS"
      },
      "source": [
        "# hashtag and tags\n",
        "twitterReviews['transformed_text'] = twitterReviews.transformed_text.apply(\n",
        "    clean_remove_tags_hashtags)\n",
        "\n",
        "# URL\n",
        "twitterReviews[\n",
        "    'transformed_text'] = twitterReviews.transformed_text.apply(\n",
        "        clean_url)\n",
        "\n",
        "# space normalizer\n",
        "twitterReviews[\n",
        "    'transformed_text'] = twitterReviews.transformed_text.apply(\n",
        "        clean_space_normalizer)\n",
        "  \n",
        "# punctuation\n",
        "twitterReviews[\n",
        "    'transformed_text'] = twitterReviews.transformed_text.apply(\n",
        "        clean_remove_punkt)\n",
        "    \n",
        "# emoji\n",
        "twitterReviews[\n",
        "    'transformed_text'] = twitterReviews.transformed_text.apply(\n",
        "        clean_remove_emoji)\n",
        "    \n",
        "# residual symbold\n",
        "twitterReviews[\n",
        "    'transformed_text'] = twitterReviews.transformed_text.apply(\n",
        "        clean_remove_residuals)\n",
        "    \n",
        "# repetitive pattern SKIPPED NOT IN USE\n",
        "# twitterReviews[\n",
        "#   'transformed_text'] = twitterReviews.transformed_text.apply(\n",
        "#    clean_remove_repetition) \n",
        "\n",
        "# remove all digits [0-9]\n",
        "twitterReviews[\n",
        "    'transformed_text'] = twitterReviews.transformed_text.apply(\n",
        "        clean_remove_digit)\n",
        "    \n",
        "# remove capital sequences\n",
        "twitterReviews[\n",
        "    'transformed_text'] = twitterReviews.transformed_text.apply(\n",
        "        clean_capital_sequences)\n",
        "\n",
        "# space condensation    \n",
        "twitterReviews[\n",
        "    'transformed_text'] = twitterReviews.transformed_text.apply(\n",
        "        clean_space_condenser)"
      ],
      "execution_count": null,
      "outputs": []
    },
    {
      "cell_type": "code",
      "metadata": {
        "colab": {
          "base_uri": "https://localhost:8080/"
        },
        "id": "UQ8LiLu8GiLq",
        "outputId": "f025260c-41fe-41ef-c817-92e24f9c0063"
      },
      "source": [
        "twitterReviews.head(3)"
      ],
      "execution_count": null,
      "outputs": [
        {
          "output_type": "execute_result",
          "data": {
            "text/html": [
              "<div>\n",
              "<style scoped>\n",
              "    .dataframe tbody tr th:only-of-type {\n",
              "        vertical-align: middle;\n",
              "    }\n",
              "\n",
              "    .dataframe tbody tr th {\n",
              "        vertical-align: top;\n",
              "    }\n",
              "\n",
              "    .dataframe thead th {\n",
              "        text-align: right;\n",
              "    }\n",
              "</style>\n",
              "<table border=\"1\" class=\"dataframe\">\n",
              "  <thead>\n",
              "    <tr style=\"text-align: right;\">\n",
              "      <th></th>\n",
              "      <th>text</th>\n",
              "      <th>airline_sentiment</th>\n",
              "      <th>transformed_text</th>\n",
              "    </tr>\n",
              "  </thead>\n",
              "  <tbody>\n",
              "    <tr>\n",
              "      <th>0</th>\n",
              "      <td>@VirginAmerica What @dhepburn said.</td>\n",
              "      <td>neutral</td>\n",
              "      <td>what said</td>\n",
              "    </tr>\n",
              "    <tr>\n",
              "      <th>1</th>\n",
              "      <td>@VirginAmerica plus you've added commercials t...</td>\n",
              "      <td>positive</td>\n",
              "      <td>plus added commercials experience tacky</td>\n",
              "    </tr>\n",
              "    <tr>\n",
              "      <th>2</th>\n",
              "      <td>@VirginAmerica I didn't today... Must mean I n...</td>\n",
              "      <td>neutral</td>\n",
              "      <td>today must mean need take another trip</td>\n",
              "    </tr>\n",
              "  </tbody>\n",
              "</table>\n",
              "</div>"
            ],
            "text/plain": [
              "                                                text  ...                         transformed_text\n",
              "0                @VirginAmerica What @dhepburn said.  ...                                what said\n",
              "1  @VirginAmerica plus you've added commercials t...  ...  plus added commercials experience tacky\n",
              "2  @VirginAmerica I didn't today... Must mean I n...  ...   today must mean need take another trip\n",
              "\n",
              "[3 rows x 3 columns]"
            ]
          },
          "metadata": {
            "tags": []
          },
          "execution_count": 137
        }
      ]
    },
    {
      "cell_type": "code",
      "metadata": {
        "colab": {
          "base_uri": "https://localhost:8080/"
        },
        "id": "TB9fZj5SHlgS",
        "outputId": "c06c7922-2421-45c7-df58-d3d1ea2e1dee"
      },
      "source": [
        "twitterReviews.shape"
      ],
      "execution_count": null,
      "outputs": [
        {
          "output_type": "execute_result",
          "data": {
            "text/plain": [
              "(14640, 3)"
            ]
          },
          "metadata": {
            "tags": []
          },
          "execution_count": 138
        }
      ]
    },
    {
      "cell_type": "markdown",
      "metadata": {
        "id": "QTAv_7VLQC0y"
      },
      "source": [
        "### Codifica della variabile target\n",
        "\n",
        "\n",
        "---\n",
        "\n",
        "\n",
        "\n",
        "\n",
        "\n"
      ]
    },
    {
      "cell_type": "markdown",
      "metadata": {
        "id": "uxaqajKkQ0ha"
      },
      "source": [
        "* positivo : 2 \n",
        "* neutro : 1\n",
        "* negativo : 0\n",
        "\n",
        "\n",
        "\n"
      ]
    },
    {
      "cell_type": "code",
      "metadata": {
        "id": "rRP2ffH7F2E5"
      },
      "source": [
        "twitterReviews['airline_sentiment_labels'] = twitterReviews.airline_sentiment.apply(setLabels)"
      ],
      "execution_count": null,
      "outputs": []
    },
    {
      "cell_type": "code",
      "metadata": {
        "colab": {
          "base_uri": "https://localhost:8080/"
        },
        "id": "eVGqd3C2_kl9",
        "outputId": "4e908811-579b-4ed1-a946-62a6882a16be"
      },
      "source": [
        "twitterReviews.head()"
      ],
      "execution_count": null,
      "outputs": [
        {
          "output_type": "execute_result",
          "data": {
            "text/html": [
              "<div>\n",
              "<style scoped>\n",
              "    .dataframe tbody tr th:only-of-type {\n",
              "        vertical-align: middle;\n",
              "    }\n",
              "\n",
              "    .dataframe tbody tr th {\n",
              "        vertical-align: top;\n",
              "    }\n",
              "\n",
              "    .dataframe thead th {\n",
              "        text-align: right;\n",
              "    }\n",
              "</style>\n",
              "<table border=\"1\" class=\"dataframe\">\n",
              "  <thead>\n",
              "    <tr style=\"text-align: right;\">\n",
              "      <th></th>\n",
              "      <th>text</th>\n",
              "      <th>airline_sentiment</th>\n",
              "      <th>transformed_text</th>\n",
              "      <th>airline_sentiment_labels</th>\n",
              "    </tr>\n",
              "  </thead>\n",
              "  <tbody>\n",
              "    <tr>\n",
              "      <th>0</th>\n",
              "      <td>@VirginAmerica What @dhepburn said.</td>\n",
              "      <td>neutral</td>\n",
              "      <td>what said</td>\n",
              "      <td>1</td>\n",
              "    </tr>\n",
              "    <tr>\n",
              "      <th>1</th>\n",
              "      <td>@VirginAmerica plus you've added commercials t...</td>\n",
              "      <td>positive</td>\n",
              "      <td>plus added commercials experience tacky</td>\n",
              "      <td>2</td>\n",
              "    </tr>\n",
              "    <tr>\n",
              "      <th>2</th>\n",
              "      <td>@VirginAmerica I didn't today... Must mean I n...</td>\n",
              "      <td>neutral</td>\n",
              "      <td>today must mean need take another trip</td>\n",
              "      <td>1</td>\n",
              "    </tr>\n",
              "    <tr>\n",
              "      <th>3</th>\n",
              "      <td>@VirginAmerica it's really aggressive to blast...</td>\n",
              "      <td>negative</td>\n",
              "      <td>really aggressive blast obnoxious entertainmen...</td>\n",
              "      <td>0</td>\n",
              "    </tr>\n",
              "    <tr>\n",
              "      <th>4</th>\n",
              "      <td>@VirginAmerica and it's a really big bad thing...</td>\n",
              "      <td>negative</td>\n",
              "      <td>really big bad thing</td>\n",
              "      <td>0</td>\n",
              "    </tr>\n",
              "  </tbody>\n",
              "</table>\n",
              "</div>"
            ],
            "text/plain": [
              "                                                text  ... airline_sentiment_labels\n",
              "0                @VirginAmerica What @dhepburn said.  ...                        1\n",
              "1  @VirginAmerica plus you've added commercials t...  ...                        2\n",
              "2  @VirginAmerica I didn't today... Must mean I n...  ...                        1\n",
              "3  @VirginAmerica it's really aggressive to blast...  ...                        0\n",
              "4  @VirginAmerica and it's a really big bad thing...  ...                        0\n",
              "\n",
              "[5 rows x 4 columns]"
            ]
          },
          "metadata": {
            "tags": []
          },
          "execution_count": 140
        }
      ]
    },
    {
      "cell_type": "markdown",
      "metadata": {
        "id": "dDGK2eHMqIcG"
      },
      "source": [
        "### Data Augmentation\n",
        "\n",
        "\n",
        "---\n"
      ]
    },
    {
      "cell_type": "markdown",
      "metadata": {
        "id": "5Aic7e7jN3yq"
      },
      "source": [
        "* Creiamo una copia del dataframe per vedere effettivamente le differenze con il dataset senza augmentation e quello con augmentation"
      ]
    },
    {
      "cell_type": "code",
      "metadata": {
        "id": "xmPa0c-Gjhe1"
      },
      "source": [
        "twitterReviews_noAug = twitterReviews.copy()"
      ],
      "execution_count": null,
      "outputs": []
    },
    {
      "cell_type": "code",
      "metadata": {
        "id": "F7UyoEeiE_lE"
      },
      "source": [
        "FIELDS: Dict[str, Any] = dict(positive=4, neutral=3, negative=0)\n",
        "\n",
        "# Function to upsample the minor classes through data augmentation \n",
        "def augment_text(_df_text: DataFrame,\n",
        "                  _label: str,\n",
        "                  _replica: int,\n",
        "                  _samples: int = 100,\n",
        "                  _aug_p: float = .5,\n",
        "                  _sentiment_column: str = 'airline_sentiment',\n",
        "                  _sentiment_labels_column: str = 'airline_sentiment_labels'):\n",
        "    \"\"\"\n",
        "    Generate additional, synthetic data using the data from the original set.\n",
        "    Return an augmented DataFrame object based on Synonym Replacement. The\n",
        "    synonym replacement will randomly choose n words from the sentence that\n",
        "    are not stop words. Replace each of these words with one of its synonyms\n",
        "    chosen at random. \"\"\"\n",
        "\n",
        "    _text = []\n",
        "    _labels = []\n",
        "    _labels_class =[]\n",
        "\n",
        "    # Augmenter that leverage semantic meaning to substitute word.\n",
        "    augmenter_obj = naw.SynonymAug(aug_p=.5)\n",
        "    \n",
        "    # slice the set after safe copy\n",
        "    _df = _df_text.copy()\n",
        "    df_n = _df[_df[_sentiment_column] == _label].reset_index(drop=True)\n",
        "\n",
        "    # loop over the sampled rows :-/\n",
        "    for i in tqdm(np.random.randint(0, len(df_n), _samples)):\n",
        "        for _ in np.arange(_replica):\n",
        "            augmented_text = augmenter_obj.augment(df_n.iloc[i]['transformed_text'])\n",
        "            _text.append(augmented_text)\n",
        "            _labels.append(df_n.iloc[i][_sentiment_column])\n",
        "            _labels_class.append(df_n.iloc[i]['airline_sentiment_labels'])\n",
        "\n",
        "    # dataframe\n",
        "    new = pd.DataFrame({\n",
        "        'transformed_text': _text,\n",
        "        _sentiment_column: _labels,\n",
        "        'airline_sentiment_labels' : _labels_class\n",
        "    })\n",
        "    _df_text=shuffle(_df_text.append(new).reset_index(drop=True))\n",
        "    return _df_text"
      ],
      "execution_count": null,
      "outputs": []
    },
    {
      "cell_type": "code",
      "metadata": {
        "colab": {
          "base_uri": "https://localhost:8080/"
        },
        "id": "Pgfa_y7ZjJJc",
        "outputId": "99ccac3b-8e05-4a92-d1cb-a232ad76c4b0"
      },
      "source": [
        "# Upsample the dataset\n",
        "for k, v in FIELDS.items():\n",
        "    twitterReviews = augment_text(_df_text=twitterReviews, _label=k, _replica=v, _samples=300)"
      ],
      "execution_count": null,
      "outputs": [
        {
          "output_type": "stream",
          "text": [
            "100%|██████████| 300/300 [02:04<00:00,  2.42it/s]\n",
            "100%|██████████| 300/300 [01:33<00:00,  3.22it/s]\n",
            "100%|██████████| 300/300 [00:00<00:00, 172415.89it/s]\n"
          ],
          "name": "stderr"
        }
      ]
    },
    {
      "cell_type": "code",
      "metadata": {
        "colab": {
          "base_uri": "https://localhost:8080/"
        },
        "id": "FNzxgm3H-SdP",
        "outputId": "978ac6ef-c3f0-4fad-f00b-9904624de0c4"
      },
      "source": [
        "twitterReviews_noAug.groupby('airline_sentiment_labels').size()  # NOT augmented dataframe"
      ],
      "execution_count": null,
      "outputs": [
        {
          "output_type": "execute_result",
          "data": {
            "text/plain": [
              "airline_sentiment_labels\n",
              "0    9178\n",
              "1    3099\n",
              "2    2363\n",
              "dtype: int64"
            ]
          },
          "metadata": {
            "tags": []
          },
          "execution_count": 144
        }
      ]
    },
    {
      "cell_type": "code",
      "metadata": {
        "colab": {
          "base_uri": "https://localhost:8080/"
        },
        "id": "d3-Y27ZqO8A3",
        "outputId": "70917afc-4124-497a-f917-676c42c139bf"
      },
      "source": [
        "twitterReviews.groupby('airline_sentiment_labels').size()  # augmented dataframe"
      ],
      "execution_count": null,
      "outputs": [
        {
          "output_type": "execute_result",
          "data": {
            "text/plain": [
              "airline_sentiment_labels\n",
              "0.0    9178\n",
              "1.0    3999\n",
              "2.0    3563\n",
              "dtype: int64"
            ]
          },
          "metadata": {
            "tags": []
          },
          "execution_count": 145
        }
      ]
    },
    {
      "cell_type": "markdown",
      "metadata": {
        "id": "RhywAj9jPWUO"
      },
      "source": [
        "\n",
        "\n",
        "---\n",
        "\n",
        "\n",
        "* Notiamo che sono state generate un totale di **2100** osservazioni artificiali :\n",
        "\n",
        " 1200 per la classe minoritaria **positiva** (2) e 900 per la classe minoritaria **neutra** (1).\n",
        "\n",
        "\n",
        "\n",
        "\n",
        "\n",
        "\n",
        "---\n",
        "\n"
      ]
    },
    {
      "cell_type": "markdown",
      "metadata": {
        "id": "aDAXm653ZwXw"
      },
      "source": [
        "### Lemmatizzazione\n",
        "\n",
        "\n",
        "---\n",
        "\n"
      ]
    },
    {
      "cell_type": "code",
      "metadata": {
        "id": "b0Gxs5gdLpcl"
      },
      "source": [
        "twitterReviews['transformed_text'] = twitterReviews.transformed_text.apply(lemmatize)\n",
        "twitterReviews_noAug['transformed_text'] = twitterReviews_noAug.transformed_text.apply(lemmatize)"
      ],
      "execution_count": null,
      "outputs": []
    },
    {
      "cell_type": "markdown",
      "metadata": {
        "id": "FDeWzTuU2JnV"
      },
      "source": [
        "### Stemming"
      ]
    },
    {
      "cell_type": "code",
      "metadata": {
        "id": "glbalucL2LTH"
      },
      "source": [
        "twitterReviews['transformed_text'] = twitterReviews.transformed_text.apply(stemText)\n",
        "twitterReviews_noAug['transformed_text'] = twitterReviews_noAug.transformed_text.apply(stemText)"
      ],
      "execution_count": null,
      "outputs": []
    },
    {
      "cell_type": "markdown",
      "metadata": {
        "id": "X4r7VronXcca"
      },
      "source": [
        "### Rimozione delle recensioni vuote"
      ]
    },
    {
      "cell_type": "code",
      "metadata": {
        "id": "6QRv5YB4Wz85"
      },
      "source": [
        "twitterReviews = twitterReviews[twitterReviews.transformed_text !='']\n",
        "twitterReviews_noAug = twitterReviews_noAug[twitterReviews_noAug.transformed_text !='']"
      ],
      "execution_count": null,
      "outputs": []
    },
    {
      "cell_type": "code",
      "metadata": {
        "colab": {
          "base_uri": "https://localhost:8080/"
        },
        "id": "TINVgxSglLt5",
        "outputId": "ca6e469d-dd9d-4695-a5d4-b9f429b3cb4b"
      },
      "source": [
        "twitterReviews.head()"
      ],
      "execution_count": null,
      "outputs": [
        {
          "output_type": "execute_result",
          "data": {
            "text/html": [
              "<div>\n",
              "<style scoped>\n",
              "    .dataframe tbody tr th:only-of-type {\n",
              "        vertical-align: middle;\n",
              "    }\n",
              "\n",
              "    .dataframe tbody tr th {\n",
              "        vertical-align: top;\n",
              "    }\n",
              "\n",
              "    .dataframe thead th {\n",
              "        text-align: right;\n",
              "    }\n",
              "</style>\n",
              "<table border=\"1\" class=\"dataframe\">\n",
              "  <thead>\n",
              "    <tr style=\"text-align: right;\">\n",
              "      <th></th>\n",
              "      <th>text</th>\n",
              "      <th>airline_sentiment</th>\n",
              "      <th>transformed_text</th>\n",
              "      <th>airline_sentiment_labels</th>\n",
              "    </tr>\n",
              "  </thead>\n",
              "  <tbody>\n",
              "    <tr>\n",
              "      <th>479</th>\n",
              "      <td>@USAirways just an FYI I'll be writing registe...</td>\n",
              "      <td>negative</td>\n",
              "      <td>fyi write regist letter ceo line shame treatme...</td>\n",
              "      <td>0.0</td>\n",
              "    </tr>\n",
              "    <tr>\n",
              "      <th>6726</th>\n",
              "      <td>@AmericanAir to add insult to injury, I have t...</td>\n",
              "      <td>negative</td>\n",
              "      <td>add insult injuri pick real class act stick delta</td>\n",
              "      <td>0.0</td>\n",
              "    </tr>\n",
              "    <tr>\n",
              "      <th>8814</th>\n",
              "      <td>@united broke my suitcase &amp;amp; refuses to giv...</td>\n",
              "      <td>negative</td>\n",
              "      <td>broke suitcas refus give repair estim</td>\n",
              "      <td>0.0</td>\n",
              "    </tr>\n",
              "    <tr>\n",
              "      <th>780</th>\n",
              "      <td>@united yes when I got to the gate I specifica...</td>\n",
              "      <td>negative</td>\n",
              "      <td>ye got gate specif ask seat veri discourag wal...</td>\n",
              "      <td>0.0</td>\n",
              "    </tr>\n",
              "    <tr>\n",
              "      <th>12798</th>\n",
              "      <td>@united lost 4 loyal customers and mileage plu...</td>\n",
              "      <td>negative</td>\n",
              "      <td>lost loyal custom mileag plu card holder drive...</td>\n",
              "      <td>0.0</td>\n",
              "    </tr>\n",
              "  </tbody>\n",
              "</table>\n",
              "</div>"
            ],
            "text/plain": [
              "                                                    text  ... airline_sentiment_labels\n",
              "479    @USAirways just an FYI I'll be writing registe...  ...                      0.0\n",
              "6726   @AmericanAir to add insult to injury, I have t...  ...                      0.0\n",
              "8814   @united broke my suitcase &amp; refuses to giv...  ...                      0.0\n",
              "780    @united yes when I got to the gate I specifica...  ...                      0.0\n",
              "12798  @united lost 4 loyal customers and mileage plu...  ...                      0.0\n",
              "\n",
              "[5 rows x 4 columns]"
            ]
          },
          "metadata": {
            "tags": []
          },
          "execution_count": 149
        }
      ]
    },
    {
      "cell_type": "markdown",
      "metadata": {
        "id": "pLp-uRADHxSL"
      },
      "source": [
        "# Class imbalance\n",
        "\n",
        "\n",
        "---\n",
        "\n"
      ]
    },
    {
      "cell_type": "markdown",
      "metadata": {
        "id": "Q2D4rkcwQQdG"
      },
      "source": [
        "\n",
        "\n",
        "\n",
        "\n",
        "Dal momento che, purtroppo, la data augmentation non è sufficiente per bilanciare complessivamente il dataset, ricorriamo anche all'**undersampling**. Cerchiamo ciò di eliminare dalla classe negativa (0) i record in eccesso tramite campionamento casuale semplice.\n",
        "\n",
        "\n"
      ]
    },
    {
      "cell_type": "markdown",
      "metadata": {
        "id": "ct-3YuKpOd7v"
      },
      "source": [
        "**Augmented DataFrame**\n",
        "\n",
        "\n",
        "---\n",
        "\n",
        "\n",
        "Estraiamo n=3560 record (numerosità della classe minoritaria) dalla classe maggioritaria \n"
      ]
    },
    {
      "cell_type": "code",
      "metadata": {
        "colab": {
          "base_uri": "https://localhost:8080/"
        },
        "id": "cZj1CPXeMyZg",
        "outputId": "7c870224-68e0-445d-a604-d7d2d3a20450"
      },
      "source": [
        "twitterReviews.groupby('airline_sentiment_labels').size()  # augmented dataframe"
      ],
      "execution_count": null,
      "outputs": [
        {
          "output_type": "execute_result",
          "data": {
            "text/plain": [
              "airline_sentiment_labels\n",
              "0.0    9161\n",
              "1.0    3966\n",
              "2.0    3560\n",
              "dtype: int64"
            ]
          },
          "metadata": {
            "tags": []
          },
          "execution_count": 150
        }
      ]
    },
    {
      "cell_type": "code",
      "metadata": {
        "colab": {
          "base_uri": "https://localhost:8080/"
        },
        "id": "wkSuYV62GaUD",
        "outputId": "8c1bdb43-a116-4844-b558-d200e46b8a95"
      },
      "source": [
        "plotClassesFrequency(plotDim=(6,5),column='airline_sentiment',dataframe=twitterReviews)"
      ],
      "execution_count": null,
      "outputs": [
        {
          "output_type": "stream",
          "text": [
            "/usr/local/lib/python3.7/dist-packages/seaborn/_decorators.py:43: FutureWarning: Pass the following variable as a keyword arg: x. From version 0.12, the only valid positional argument will be `data`, and passing other arguments without an explicit keyword will result in an error or misinterpretation.\n",
            "  FutureWarning\n"
          ],
          "name": "stderr"
        },
        {
          "output_type": "display_data",
          "data": {
            "image/png": "[encoded data removed]",
            "text/plain": [
              "<Figure size 432x360 with 1 Axes>"
            ]
          },
          "metadata": {
            "tags": [],
            "needs_background": "light"
          }
        }
      ]
    },
    {
      "cell_type": "code",
      "metadata": {
        "id": "qbI3YofcD30M"
      },
      "source": [
        "pos,neu,neg = underSampling(twitterReviews,n = 3560)\n",
        "twitterReviewsBalanced_Aug = pd.concat([pos,neu,neg])"
      ],
      "execution_count": null,
      "outputs": []
    },
    {
      "cell_type": "markdown",
      "metadata": {
        "id": "suawSCHIOhdH"
      },
      "source": [
        "**NOT Augmented Dataframe**\n",
        "\n",
        "\n",
        "---\n",
        "\n",
        "Estraiamo n=2360 record (numerosità della classe minoritaria) dalla classe maggioritaria \n"
      ]
    },
    {
      "cell_type": "code",
      "metadata": {
        "colab": {
          "base_uri": "https://localhost:8080/"
        },
        "id": "pFoC4UC2M3h-",
        "outputId": "369859ee-16ec-4b2f-9e91-d0130658dc31"
      },
      "source": [
        "twitterReviews_noAug.groupby('airline_sentiment_labels').size()  # NOT augmented dataframe"
      ],
      "execution_count": null,
      "outputs": [
        {
          "output_type": "execute_result",
          "data": {
            "text/plain": [
              "airline_sentiment_labels\n",
              "0    9161\n",
              "1    3069\n",
              "2    2360\n",
              "dtype: int64"
            ]
          },
          "metadata": {
            "tags": []
          },
          "execution_count": 153
        }
      ]
    },
    {
      "cell_type": "code",
      "metadata": {
        "colab": {
          "base_uri": "https://localhost:8080/"
        },
        "id": "WBW87JJdL3AT",
        "outputId": "0f6a1ec9-ee86-420f-fe77-96996956ad06"
      },
      "source": [
        "plotClassesFrequency(plotDim=(6,5),column='airline_sentiment',dataframe=twitterReviews_noAug)"
      ],
      "execution_count": null,
      "outputs": [
        {
          "output_type": "stream",
          "text": [
            "/usr/local/lib/python3.7/dist-packages/seaborn/_decorators.py:43: FutureWarning: Pass the following variable as a keyword arg: x. From version 0.12, the only valid positional argument will be `data`, and passing other arguments without an explicit keyword will result in an error or misinterpretation.\n",
            "  FutureWarning\n"
          ],
          "name": "stderr"
        },
        {
          "output_type": "display_data",
          "data": {
            "image/png": "[encoded data removed]",
            "text/plain": [
              "<Figure size 432x360 with 1 Axes>"
            ]
          },
          "metadata": {
            "tags": [],
            "needs_background": "light"
          }
        }
      ]
    },
    {
      "cell_type": "code",
      "metadata": {
        "id": "qvYXCUa5NUNS"
      },
      "source": [
        "pos,neu,neg = underSampling(twitterReviews_noAug,n = 2360)\n",
        "twitterReviewsBalanced_noAug = pd.concat([pos,neu,neg])"
      ],
      "execution_count": null,
      "outputs": []
    },
    {
      "cell_type": "markdown",
      "metadata": {
        "id": "tTMBmJ6jOiVX"
      },
      "source": [
        "\n",
        "\n",
        "\n",
        "---\n",
        "\n",
        "\n",
        "* Salviamo i due dataset per passare poi alla parte di data modeling \n",
        "\n",
        "\n",
        "---\n",
        "\n"
      ]
    },
    {
      "cell_type": "code",
      "metadata": {
        "id": "uYFd0ai9JGdD"
      },
      "source": [
        "twitterReviewsBalanced_noAug.to_csv('twitterReviewsBalanced_noAug.csv')"
      ],
      "execution_count": null,
      "outputs": []
    },
    {
      "cell_type": "code",
      "metadata": {
        "id": "0V8mR4KxOmqg"
      },
      "source": [
        "twitterReviewsBalanced_Aug.to_csv('twitterReviewsBalanced_Aug.csv')"
      ],
      "execution_count": null,
      "outputs": []
    }
  ]
}